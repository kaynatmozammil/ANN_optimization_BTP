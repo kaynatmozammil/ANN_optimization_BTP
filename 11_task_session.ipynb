{
  "nbformat": 4,
  "nbformat_minor": 0,
  "metadata": {
    "colab": {
      "provenance": [],
      "include_colab_link": true
    },
    "kernelspec": {
      "name": "python3",
      "display_name": "Python 3"
    },
    "language_info": {
      "name": "python"
    }
  },
  "cells": [
    {
      "cell_type": "markdown",
      "metadata": {
        "id": "view-in-github",
        "colab_type": "text"
      },
      "source": [
        "<a href=\"https://colab.research.google.com/github/kaynatmozammil/ANN_optimization_BTP/blob/master/11_task_session.ipynb\" target=\"_parent\"><img src=\"https://colab.research.google.com/assets/colab-badge.svg\" alt=\"Open In Colab\"/></a>"
      ]
    },
    {
      "cell_type": "markdown",
      "source": [
        "## Exception Handling\n"
      ],
      "metadata": {
        "id": "ajVfqio_GinI"
      }
    },
    {
      "cell_type": "markdown",
      "source": [
        "###`Q-1`: You are given a function definition. There might be several issues on execution of this function. You are asked to do exception handling for diffrent errors that this function goes in to `without altering this function`. And print error text.\n",
        "\n"
      ],
      "metadata": {
        "id": "0qnQkJtnGozz"
      }
    },
    {
      "cell_type": "markdown",
      "source": [
        "Function parameters `l -> list, s -> could be anything`\n",
        "\n",
        "```\n",
        "def function(l: list, s, **args):\n",
        "    last_element = l[-1]\n",
        "    \n",
        "    l[int(s)]=10\n",
        "    any_element = l[int(s)+10]\n",
        "    l[s]=10\n",
        "    \n",
        "    res = sum(l)\n",
        "    \n",
        "    p = args['p']\n",
        "    # print(p)\n",
        "    return res/last_element * p + any_element\n",
        "\n",
        "```\n",
        "Check for different function calls:-\n",
        "\n",
        "```\n",
        "function([1,2,1], 12)\n",
        "function([1,2,1]*9, '1-2')\n",
        "function([1,'2',1]*9, 12)\n",
        "function([1,'2',1]*9, 12)\n",
        "function([1,2,0]*9, 12  )\n",
        "function([1,2,1]*9, 12, p=None)\n",
        "function([1,2,0]*9, 12, p=10)\n",
        "```"
      ],
      "metadata": {
        "id": "2no_EB2fGyGq"
      }
    },
    {
      "cell_type": "code",
      "source": [
        "# Write code here\n",
        "def function(l: list, s, **args):\n",
        "    last_element = l[-1]\n",
        "\n",
        "    l[int(s)]=10\n",
        "    any_element = l[int(s)+10]\n",
        "    l[s]=10\n",
        "\n",
        "    res = sum(l)\n",
        "\n",
        "    p = args['p']\n",
        "    # print(p)\n",
        "    return res/last_element * p + any_element\n",
        "# try:\n",
        "#  res = function([1,2,1], 12)\n",
        "# except IndexError as i:\n",
        "#   print(type(i))\n",
        "#   print(i)\n",
        "\n",
        "try:\n",
        " res = function([1,2,1]*9, 12, p=10)\n",
        "except IndexError as i:\n",
        "  print(type(i))\n",
        "  print(i)\n",
        "except ValueError as v:\n",
        "  print(type(v))\n",
        "  print(v)\n",
        "\n",
        "except TypeError as t:\n",
        "  print(type(t))\n",
        "  print(t)\n",
        "except KeyError as k:\n",
        "  print(type(k))\n",
        "  print(k)\n",
        "except ZeroDivisionError  as z:\n",
        "  print(type(z))\n",
        "  print(z)\n",
        "else:\n",
        "  print(\"Result is: \",res)\n",
        "finally:\n",
        "  print(\"Thank You\")"
      ],
      "metadata": {
        "id": "VoaL4_9eGjFU",
        "colab": {
          "base_uri": "https://localhost:8080/"
        },
        "outputId": "26eaf0fb-be19-4975-dab2-d11ded5cca65"
      },
      "execution_count": null,
      "outputs": [
        {
          "output_type": "stream",
          "name": "stdout",
          "text": [
            "Result is:  452.0\n",
            "Thank You\n"
          ]
        }
      ]
    },
    {
      "cell_type": "markdown",
      "source": [
        "###`Q-2:` You are given a code snippet. There might be several issues on execution of this code. You are asked to do exception handling for diffrent errors, condition is what ever happens we need to execute last line printing correct result of `sum of elements`.\n",
        "\n",
        "List have elemnts as any no of  `key-pair dict with key as list index and value as any integer`, `integers` and `numeric-strings`. There is always only one element in the dict.\n",
        "\n",
        "\n",
        "```\n",
        "l = [{0:2},2,3,4,'5', {5:10}]\n",
        "# For calculating sum of above list\n",
        "s=0\n",
        "for i in range(len(l)):\n",
        "    #You can Edit code from here\n",
        "    s += l[i].get(i)\n",
        "    s += l[i]\n",
        "    s += int(l[i])\n",
        "\n",
        "\n",
        "print(s)\n",
        "```"
      ],
      "metadata": {
        "id": "HuLMy2fVG9sL"
      }
    },
    {
      "cell_type": "code",
      "source": [
        "# Write code here\n",
        "l = [{0:2},2,3,4,'5', {5:10}]\n",
        "# For calculating sum of above list\n",
        "s=0\n",
        "for i in range(len(l)):\n",
        "  try:\n",
        "   print(s)\n",
        "   s +=l[i]\n",
        "  except TypeError:\n",
        "    try:\n",
        "     print(s)\n",
        "     s += l[i].get(i)\n",
        "     print(s,'n')\n",
        "    except AttributeError:\n",
        "      # print(l[i])\n",
        "      print(s)\n",
        "      s += int(l[i])\n",
        "\n",
        "print(s)"
      ],
      "metadata": {
        "id": "pEP8JU0qHAf8",
        "colab": {
          "base_uri": "https://localhost:8080/"
        },
        "outputId": "cb3b4c48-2d89-46a3-fd57-62e17509a846"
      },
      "execution_count": null,
      "outputs": [
        {
          "output_type": "stream",
          "name": "stdout",
          "text": [
            "0\n",
            "0\n",
            "2 n\n",
            "2\n",
            "4\n",
            "7\n",
            "11\n",
            "11\n",
            "11\n",
            "16\n",
            "16\n",
            "26 n\n",
            "26\n"
          ]
        }
      ]
    },
    {
      "cell_type": "markdown",
      "source": [
        "### `Q-3:`: File Handling with Exception handling\n",
        "\n",
        "Write a program that opens a text file and write data to it as \"Hello, Good Morning!!!\". Handle exceptions that can be generated during the I/O operations. Do not show the success message on the main exception handling block (write inside the else block)."
      ],
      "metadata": {
        "id": "ohE2fDTXHIan"
      }
    },
    {
      "cell_type": "code",
      "source": [
        "# write code here\n",
        "try:\n",
        "  with open('text_file.txt','') as f:\n",
        "    f.write(\"Hello, Good Morning!!!\")\n",
        "except IOError:\n",
        "  print('Error working with file')\n",
        "else:\n",
        "  print('File written Successfully ')"
      ],
      "metadata": {
        "id": "iOeiWrcIHPlY",
        "colab": {
          "base_uri": "https://localhost:8080/"
        },
        "outputId": "cf9d3aae-b6da-4be2-f73f-3005ff51e0f0"
      },
      "execution_count": null,
      "outputs": [
        {
          "output_type": "stream",
          "name": "stdout",
          "text": [
            "Error working with file\n"
          ]
        }
      ]
    },
    {
      "cell_type": "markdown",
      "source": [
        "### `Q-4`: Number game program.\n",
        "\n",
        "Write a number game program. Ask the user to enter a number. If the number is greater than number to be guessed, raise a **ValueTooLarge** exception. If the value is smaller the number to be guessed the, raise a **ValueTooSmall** exception and prompt the user to enter again. Quit the program only when the user enters the correct number. Also raise **GuessError** if user guess a number less than 1."
      ],
      "metadata": {
        "id": "ru8g8-_bHTUf"
      }
    },
    {
      "cell_type": "code",
      "source": [
        "# Write code here\n",
        "import random\n",
        "\n",
        "class ValueTooLarge(Exception):\n",
        "  def display(self):\n",
        "    print(\"Input value too large\")\n",
        "\n",
        "class ValueTooSmall(Exception):\n",
        "  def display(self):\n",
        "    print(\"Input value too Small\")\n",
        "class GuessError(Exception):\n",
        "  def display(self):\n",
        "    print(\"Guess The number between 1 and 100\")\n",
        "\n",
        "num = random.randint(1,100)\n",
        "\n",
        "while 1:\n",
        "  try:\n",
        "\n",
        "    guess = int(input(\"Enter a number\"))\n",
        "\n",
        "    if guess < 1:\n",
        "      raise GuessError\n",
        "    if guess == num:\n",
        "      print(\"Great You Succeed\")\n",
        "      break\n",
        "    if guess > num:\n",
        "      raise ValueTooLarge\n",
        "\n",
        "    if guess < num:\n",
        "      raise ValueTooSmall\n",
        "  except ValueTooSmall as s:\n",
        "    s.display()\n",
        "\n",
        "  except ValueTooLarge as l:\n",
        "    l.display()\n",
        "\n",
        "  except GuessError as g:\n",
        "    g.display()\n",
        "\n",
        "\n",
        "\n"
      ],
      "metadata": {
        "id": "QftlN5LJHZSX",
        "colab": {
          "base_uri": "https://localhost:8080/"
        },
        "outputId": "5c1a633c-221a-42be-feb4-0830f4b9774c"
      },
      "execution_count": null,
      "outputs": [
        {
          "output_type": "stream",
          "name": "stdout",
          "text": [
            "Enter a number76\n",
            "Input value too large\n",
            "Enter a number60\n",
            "Input value too large\n",
            "Enter a number50\n",
            "Input value too large\n",
            "Enter a number4\n",
            "Input value too Small\n",
            "Enter a number40\n",
            "Input value too large\n",
            "Enter a number35\n",
            "Input value too large\n",
            "Enter a number30\n",
            "Input value too large\n",
            "Enter a number20\n",
            "Input value too Small\n",
            "Enter a number27\n",
            "Input value too Small\n",
            "Enter a number28\n",
            "Great You Succeed\n"
          ]
        }
      ]
    },
    {
      "cell_type": "markdown",
      "source": [
        "### `Q-5:` Cast vote\n",
        "\n",
        "Write a program that validate name and age as entered by the user to determine whether the person can cast vote or not. To handle the age, create **InvalidAge** exception and for name, create **InvalidName** exception. The name will be invalid when the string will be empty or name has only one word.\n",
        "\n",
        "Example 1:\n",
        "\n",
        "Input:\n",
        "\n",
        "```bash\n",
        "Enter the name:               goransh singh\n",
        "Enter the age: 25\n",
        "```\n",
        "\n",
        "Output:\n",
        "\n",
        "```bash\n",
        "Goransh Singh  Congratulation !!! You can vote.\n",
        "```"
      ],
      "metadata": {
        "id": "ZsGI_40fHcsd"
      }
    },
    {
      "cell_type": "code",
      "source": [
        "# Write code here\n",
        "class InvalidAge(Exception):\n",
        "  def display(self):\n",
        "    print(\"Sorry age cannot be below 18. Please come aafter that\")\n",
        "\n",
        "class InvalidName(Exception):\n",
        "  def display(self):\n",
        "    print(\"Please Enter a valid name\")\n",
        "\n",
        "try:\n",
        "\n",
        " name = input(\"Enter your name\")\n",
        " if len(name) == 0 or len(name.split()) < 2:\n",
        "    raise InvalidName\n",
        " age = int(input(\"Enter your age\"))\n",
        "\n",
        " if age<18:\n",
        "    raise InvalidAge\n",
        "except InvalidName as i:\n",
        "      i.display()\n",
        "except InvalidAge as a:\n",
        "        a.display()\n",
        "\n",
        "else:\n",
        "  print(\"your vote is accepted successfully\")\n",
        "finally:\n",
        "  print(\"Thank You\")\n",
        "\n"
      ],
      "metadata": {
        "id": "OHL3UiS4Hi3U",
        "colab": {
          "base_uri": "https://localhost:8080/"
        },
        "outputId": "95c60c52-8b6f-489a-a921-da8a751a43be"
      },
      "execution_count": null,
      "outputs": [
        {
          "output_type": "stream",
          "name": "stdout",
          "text": [
            "Enter your nameks a \n",
            "Enter your age12\n",
            "Sorry age cannot be below 10. Please come aafter that\n",
            "Thank You\n"
          ]
        }
      ]
    },
    {
      "cell_type": "markdown",
      "source": [
        "### `Q-6`: Write a python function which infinitely prints natural numbers in a single line. Raise the **StopIteration** exception after displaying first 20 numnbers to exit from the program."
      ],
      "metadata": {
        "id": "SCvs0QjgHlOG"
      }
    },
    {
      "cell_type": "code",
      "source": [
        "# Write code here\n",
        "def display(n):\n",
        "  i = 0\n",
        "  while True:\n",
        "    try:\n",
        "      n += 1\n",
        "      i += 1\n",
        "      if i == 21:\n",
        "        raise StopIteration\n",
        "    except StopIteration:\n",
        "        break\n",
        "    else:\n",
        "      print(n,end = \" \")\n",
        "\n",
        "display(10)\n"
      ],
      "metadata": {
        "id": "Lc5ilNgNHoSx",
        "colab": {
          "base_uri": "https://localhost:8080/"
        },
        "outputId": "bc8c5126-82c7-4a38-f170-1684e705bdc1"
      },
      "execution_count": null,
      "outputs": [
        {
          "output_type": "stream",
          "name": "stdout",
          "text": [
            "11 12 13 14 15 16 17 18 19 20 21 22 23 24 25 26 27 28 29 30 "
          ]
        }
      ]
    }
  ]
}